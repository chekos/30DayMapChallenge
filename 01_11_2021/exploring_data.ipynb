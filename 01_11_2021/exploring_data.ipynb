{
 "cells": [
  {
   "cell_type": "markdown",
   "metadata": {},
   "source": [
    "# Explorando la API del DENUE\n",
    "\n",
    "Referencias:\n",
    "* https://www.inegi.org.mx/servicios/api_denue.html\n",
    "* URL base: https://www.inegi.org.mx/app/api/denue/v1/consulta/\n",
    "* Códigos SCIAN: https://www.inegi.org.mx/app/scian/\n",
    "\n",
    "Opciones de interés:\n",
    "* BuscarAreaAct\n",
    "* BuscarEntidad"
   ]
  },
  {
   "cell_type": "markdown",
   "metadata": {},
   "source": [
    "Sobre el código SCIAN para tacos y tortas: 722514\n",
    "\n",
    ">### 722514 Restaurantes con servicio de preparación de tacos y tortas\n",
    ">Unidades económicas (restaurantes) dedicadas principalmente a la preparación de tacos, tortas, sándwiches, hamburguesas y hot dogs, así como a preparar y servir bebidas para su consumo inmediato en las instalaciones del restaurante. Los alimentos y bebidas le son servidos al cliente por personal de la unidad económica.\n",
    ">\n",
    ">Excluye: u.e.d.p. a la preparación de alimentos a la carta o de comida corrida para su consumo inmediato en las instalaciones del restaurante (722511, Restaurantes con servicio de preparación de alimentos a la carta o de comida corrida); de pescados y mariscos para su consumo inmediato en las instalaciones del restaurante (722512, Restaurantes con servicio de preparación de pescados y mariscos); de antojitos para su consumo inmediato en las instalaciones del restaurante (722513, Restaurantes con servicio de preparación de antojitos); de pizzas, hamburguesas, pollos rostizados, asados, adobados y similares, y hot dogs, para su consumo inmediato en un lugar distinto a las instalaciones del restaurante (722517, Restaurantes con servicio de preparación de pizzas, hamburguesas, hot dogs y pollos rostizados para llevar); de otros alimentos para su consumo inmediato en un lugar distinto a las instalaciones del restaurante (722518, Restaurantes que preparan otro tipo de alimentos para llevar); de alimentos como gelatinas, tamales, pasteles y pan casero, frituras y elotes, para su consumo inmediato en el mismo lugar o para llevar (722519, Servicios de preparación de otros alimentos para consumo inmediato); bares, cantinas y similares (722412, Bares, cantinas y similares), y restaurantes de autoservicio (722516, Restaurantes de autoservicio)."
   ]
  },
  {
   "cell_type": "markdown",
   "metadata": {},
   "source": [
    "## `BuscarAreaAct`\n",
    "\n",
    "Realiza una consulta de todos los establecimientos con la opción de acotar la búsqueda por área geográfica, actividad económica, nombre y clave del establecimiento.\n",
    "\n",
    "Parámetros de entrada:\n",
    "\n",
    "* `Entidad federativa` - Clave de dos dígitos de la entidad federativa (01 a 32). Para incluir todas las entidades se especifica 00.\n",
    "* `Municipio` - Clave de tres dígitos del municipio (ej. 001). Para incluir todos los municipios se especifica 0.\n",
    "* `Localidad` - Clave de cuatro dígitos de la localidad (ej. 0001 ). Para incluir todas las localidades se especifica 0.\n",
    "* `AGEB` - Clave de cuatro dígitos AGEB(ej. 2000 ).Para incluir todas las AGEBS se especifica 0\n",
    "* `Manzana` - Clave de tres dígitos de la manzana (ej. 043 ). Para incluir todas las manzanas se especifica 0.\n",
    "* `Sector` - Clave de dos dígitos del sector de la actividad económica (ej. 46 ). Para incluir todos los sectores se especifica 0.\t\n",
    "* `Subsector` - Clave de tres dígitos del subsector de la actividad económica ( ej. 464 ). Para incluir todos los subsectores se especifica 0.\n",
    "* `Rama` - Clave de cuatro dígitos de la rama de la actividad económica (ej. 4641 ). Para incluir todas las ramas se especifica 0.\n",
    "* `Clase` - Clave de seis dígitos de la clase (ej. 464112 ). Para incluir todas las actividades se especifica 0.\n",
    "* `Nombre del establecimiento` - Nombre del establecimiento a buscar. \n",
    "* `Registro inicial` - Número de registro a partir del cuál se mostrarán los resultados de la búsqueda. \n",
    "* `Registro final` - Número de registro final que se mostrará en resultados de la búsqueda. \n",
    "* `Id` - Clave única del establecimiento. Para incluir todos los establecimientos se especifica 0.\t\n",
    "* `Token` - Número único que permite hacer consultas, el cual se puede obtener al registrarse aquí "
   ]
  },
  {
   "cell_type": "markdown",
   "metadata": {},
   "source": [
    "Para tacos y tortas en Tijuana:\n",
    "* `Entidad federativa` - 02 (Baja California)\n",
    "* `Municipio` - 004 (Tijuana).\n",
    "* `Localidad` - 0 (Para incluir todas las localidades se especifica 0.)\n",
    "* `AGEB` - 0\n",
    "* `Manzana` - 0\n",
    "* `Sector` - 0\t\n",
    "* `Subsector` - 0\n",
    "* `Rama` - 0\n",
    "* `Clase` - 722514 - tacos y tortas\n",
    "* `Nombre del establecimiento` - Nombre del establecimiento a buscar. \n",
    "* `Registro inicial` - Número de registro a partir del cuál se mostrarán los resultados de la búsqueda. \n",
    "* `Registro final` - Número de registro final que se mostrará en resultados de la búsqueda. \n",
    "* `Id` - Clave única del establecimiento. Para incluir todos los establecimientos se especifica 0.\t\n",
    "* `Token` - Número único que permite hacer consultas, el cual se puede obtener al registrarse aquí "
   ]
  },
  {
   "cell_type": "markdown",
   "metadata": {},
   "source": [
    "### `BuscarEntidad`\n",
    "\n",
    "Realiza una consulta de todos los establecimientos y puede ser acotada por entidad federativa.\n",
    "\n",
    "Parámetros de entrada:\n",
    "\n",
    "* `Condición` - Palabra(s) a buscar dentro del nombre del establecimiento, razón social, calle, colonia, clase de la actividad económica, entidad federativa, municipio y localidad. Para buscar todos los establecimientos se deberá ingresar la palabra \"todos\". \n",
    "* `Entidad federativa` - Clave de dos dígitos de la entidad federativa (01 a 32). Para incluir todas las entidades se especifica 00. \n",
    "* `Registro inicial` - Número de registro a partir del cuál se mostrarán los resultados de la búsqueda. \n",
    "* `Registro final` - Número de registro final que se mostrará en los resultados de la búsqueda. \n",
    "* `Token` - Número único que permite hacer consultas, el cual se puede obtener al registrarse aquí "
   ]
  },
  {
   "cell_type": "code",
   "execution_count": null,
   "metadata": {},
   "outputs": [],
   "source": [
    "import requests\n",
    "import pandas as pd \n",
    "from rich import print\n",
    "import os"
   ]
  },
  {
   "cell_type": "code",
   "execution_count": null,
   "metadata": {},
   "outputs": [],
   "source": [
    "BASE_URL = \"https://www.inegi.org.mx/app/api/denue/v1/consulta\"\n",
    "CONSULTA = \"BuscarEntidad\"\n",
    "CONDICION = \"tacos\"\n",
    "ENTIDAD_FEDERATIVA = 2 \n",
    "REGISTRO_INICIAL = 1\n",
    "REGISTRO_FINAL = 10_000\n",
    "DENUE_TOKEN = os.environ.get(\"DENUE_TOKEN\", \"\")"
   ]
  },
  {
   "cell_type": "code",
   "execution_count": null,
   "metadata": {},
   "outputs": [],
   "source": [
    "API_URL = f\"{BASE_URL}/{CONSULTA}/{CONDICION}/{ENTIDAD_FEDERATIVA}/{REGISTRO_INICIAL}/{REGISTRO_FINAL}/{DENUE_TOKEN}\""
   ]
  },
  {
   "cell_type": "code",
   "execution_count": null,
   "metadata": {},
   "outputs": [],
   "source": [
    "resp = requests.get(API_URL)\n",
    "resp.status_code"
   ]
  },
  {
   "cell_type": "code",
   "execution_count": null,
   "metadata": {},
   "outputs": [],
   "source": [
    "len(resp.json())"
   ]
  },
  {
   "cell_type": "code",
   "execution_count": null,
   "metadata": {},
   "outputs": [],
   "source": [
    "print(resp.json()[0])"
   ]
  },
  {
   "cell_type": "code",
   "execution_count": null,
   "metadata": {},
   "outputs": [],
   "source": [
    "tacos_en_tijuana_df = pd.DataFrame(resp.json())\n",
    "tacos_en_tijuana_df.head()"
   ]
  },
  {
   "cell_type": "code",
   "execution_count": null,
   "metadata": {},
   "outputs": [],
   "source": [
    "tacos_en_tijuana_df.to_csv(\"../data/tacos_en_tijuana.csv\", encoding = 'utf-8', index = False)"
   ]
  }
 ],
 "metadata": {
  "interpreter": {
   "hash": "253884beaadb34a4186e6066f68f11f57ab76d14f8568627b66c2a17598c966f"
  },
  "kernelspec": {
   "display_name": "Python 3.9.6 64-bit ('.venv': venv)",
   "name": "python3"
  },
  "language_info": {
   "codemirror_mode": {
    "name": "ipython",
    "version": 3
   },
   "file_extension": ".py",
   "mimetype": "text/x-python",
   "name": "python",
   "nbconvert_exporter": "python",
   "pygments_lexer": "ipython3",
   "version": "3.9.6"
  },
  "orig_nbformat": 4
 },
 "nbformat": 4,
 "nbformat_minor": 2
}
